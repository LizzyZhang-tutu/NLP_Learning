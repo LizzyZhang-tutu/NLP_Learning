{
  "nbformat": 4,
  "nbformat_minor": 0,
  "metadata": {
    "colab": {
      "name": "bag_of_words.ipynb",
      "provenance": [],
      "authorship_tag": "ABX9TyObkc3q2SgnsF9rzSzqKyWa",
      "include_colab_link": true
    },
    "kernelspec": {
      "name": "python3",
      "display_name": "Python 3"
    }
  },
  "cells": [
    {
      "cell_type": "markdown",
      "metadata": {
        "id": "view-in-github",
        "colab_type": "text"
      },
      "source": [
        "<a href=\"https://colab.research.google.com/github/LizzyZhang-tutu/NLP_Learning/blob/master/bag_of_words.ipynb\" target=\"_parent\"><img src=\"https://colab.research.google.com/assets/colab-badge.svg\" alt=\"Open In Colab\"/></a>"
      ]
    },
    {
      "cell_type": "code",
      "metadata": {
        "id": "37KfsUwu3Tda",
        "colab_type": "code",
        "colab": {
          "base_uri": "https://localhost:8080/",
          "height": 561
        },
        "outputId": "f06a6421-e5b1-46db-8322-c66ec1b5824f"
      },
      "source": [
        "import numpy as np\n",
        "from sklearn.feature_extraction.text import CountVectorizer\n",
        "from nltk.corpus import brown\n",
        "import nltk\n",
        "nltk.download('brown')\n",
        "# Split the input text into chunks, where\n",
        "# each chunk contains N words\n",
        "def chunker(input_data, N):\n",
        "    input_words = input_data.split(' ')\n",
        "    output = []\n",
        "\n",
        "    cur_chunk = []\n",
        "    count = 0\n",
        "    for word in input_words:\n",
        "        cur_chunk.append(word)\n",
        "        count += 1\n",
        "        if count == N:\n",
        "            output.append(' '.join(cur_chunk))\n",
        "            count, cur_chunk = 0, []\n",
        "\n",
        "    output.append(' '.join(cur_chunk))\n",
        "\n",
        "    return output \n",
        "# Read the data from the Brown corpus\n",
        "input_data = ' '.join(brown.words()[:5400])\n",
        "\n",
        "# Number of words in each chunk \n",
        "chunk_size = 800\n",
        "\n",
        "text_chunks = chunker(input_data, chunk_size)\n",
        "\n",
        "# Convert to dict items\n",
        "chunks = []\n",
        "for count, chunk in enumerate(text_chunks):\n",
        "    d = {'index': count, 'text': chunk}\n",
        "    chunks.append(d)\n",
        "\n",
        "# Extract the document term matrix\n",
        "count_vectorizer = CountVectorizer(min_df=7, max_df=20)\n",
        "document_term_matrix = count_vectorizer.fit_transform([chunk['text'] for chunk in chunks])\n",
        "\n",
        "# Extract the vocabulary and display it\n",
        "vocabulary = np.array(count_vectorizer.get_feature_names())\n",
        "print(\"\\nVocabulary:\\n\", vocabulary)\n",
        "\n",
        "# Generate names for chunks\n",
        "chunk_names = []\n",
        "for i in range(len(text_chunks)):\n",
        "    chunk_names.append('Chunk-' + str(i+1))\n",
        "\n",
        "# Print the document term matrix\n",
        "print(\"\\nDocument term matrix:\")\n",
        "formatted_text = '{:>12}' * (len(chunk_names) + 1)\n",
        "print('\\n', formatted_text.format('Word', *chunk_names), '\\n')\n",
        "for word, item in zip(vocabulary, document_term_matrix.T):\n",
        "    # 'item' is a 'csr_matrix' data structure\n",
        "    output = [word] + [str(freq) for freq in item.data]\n",
        "    print(formatted_text.format(*output))\n",
        "\n"
      ],
      "execution_count": 4,
      "outputs": [
        {
          "output_type": "stream",
          "text": [
            "[nltk_data] Downloading package brown to /root/nltk_data...\n",
            "[nltk_data]   Unzipping corpora/brown.zip.\n",
            "\n",
            "Vocabulary:\n",
            " ['and' 'are' 'be' 'by' 'county' 'for' 'in' 'is' 'it' 'of' 'on' 'one'\n",
            " 'said' 'state' 'that' 'the' 'to' 'two' 'was' 'which' 'with']\n",
            "\n",
            "Document term matrix:\n",
            "\n",
            "         Word     Chunk-1     Chunk-2     Chunk-3     Chunk-4     Chunk-5     Chunk-6     Chunk-7 \n",
            "\n",
            "         and          23           9           9          11           9          17          10\n",
            "         are           2           2           1           1           2           2           1\n",
            "          be           6           8           7           7           6           2           1\n",
            "          by           3           4           4           5          14           3           6\n",
            "      county           6           2           7           3           1           2           2\n",
            "         for           7          13           4          10           7           6           4\n",
            "          in          15          11          15          11          13          14          17\n",
            "          is           2           7           3           4           5           5           2\n",
            "          it           8           6           8           9           3           1           2\n",
            "          of          31          20          20          30          29          35          26\n",
            "          on           4           3           5          10           6           5           2\n",
            "         one           1           3           1           2           2           1           1\n",
            "        said          12           5           7           7           4           3           7\n",
            "       state           3           7           2           6           3           4           1\n",
            "        that          13           8           9           2           7           1           7\n",
            "         the          71          51          43          51          43          52          49\n",
            "          to          11          26          20          26          21          15          11\n",
            "         two           2           1           1           1           1           2           2\n",
            "         was           5           6           7           7           4           7           3\n",
            "       which           7           4           5           4           3           1           1\n",
            "        with           2           2           3           1           2           2           3\n"
          ],
          "name": "stdout"
        }
      ]
    }
  ]
}