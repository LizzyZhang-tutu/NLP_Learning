{
  "nbformat": 4,
  "nbformat_minor": 0,
  "metadata": {
    "colab": {
      "name": "TextToFeatures.ipynb",
      "provenance": [],
      "toc_visible": true,
      "authorship_tag": "ABX9TyP4nq88H7ZN9uOYCj9GdJXZ",
      "include_colab_link": true
    },
    "kernelspec": {
      "name": "python3",
      "display_name": "Python 3"
    }
  },
  "cells": [
    {
      "cell_type": "markdown",
      "metadata": {
        "id": "view-in-github",
        "colab_type": "text"
      },
      "source": [
        "<a href=\"https://colab.research.google.com/github/LizzyZhang-tutu/NLP_Learning/blob/master/TextToFeatures.ipynb\" target=\"_parent\"><img src=\"https://colab.research.google.com/assets/colab-badge.svg\" alt=\"Open In Colab\"/></a>"
      ]
    },
    {
      "cell_type": "markdown",
      "metadata": {
        "id": "yjpoZWDTCTXJ",
        "colab_type": "text"
      },
      "source": [
        "## Converting text to features"
      ]
    },
    {
      "cell_type": "code",
      "metadata": {
        "id": "jC7YtcPq1RVA",
        "colab_type": "code",
        "colab": {
          "base_uri": "https://localhost:8080/",
          "height": 173
        },
        "outputId": "cfb156de-b0fa-4f6e-f311-290cbd2cf725"
      },
      "source": [
        "Text = \"I am learning NLP\"\n",
        "import pandas as pd\n",
        "\n",
        "#convert text to features\n",
        "pd.get_dummies(Text.split())"
      ],
      "execution_count": 4,
      "outputs": [
        {
          "output_type": "execute_result",
          "data": {
            "text/html": [
              "<div>\n",
              "<style scoped>\n",
              "    .dataframe tbody tr th:only-of-type {\n",
              "        vertical-align: middle;\n",
              "    }\n",
              "\n",
              "    .dataframe tbody tr th {\n",
              "        vertical-align: top;\n",
              "    }\n",
              "\n",
              "    .dataframe thead th {\n",
              "        text-align: right;\n",
              "    }\n",
              "</style>\n",
              "<table border=\"1\" class=\"dataframe\">\n",
              "  <thead>\n",
              "    <tr style=\"text-align: right;\">\n",
              "      <th></th>\n",
              "      <th>I</th>\n",
              "      <th>NLP</th>\n",
              "      <th>am</th>\n",
              "      <th>learning</th>\n",
              "    </tr>\n",
              "  </thead>\n",
              "  <tbody>\n",
              "    <tr>\n",
              "      <th>0</th>\n",
              "      <td>1</td>\n",
              "      <td>0</td>\n",
              "      <td>0</td>\n",
              "      <td>0</td>\n",
              "    </tr>\n",
              "    <tr>\n",
              "      <th>1</th>\n",
              "      <td>0</td>\n",
              "      <td>0</td>\n",
              "      <td>1</td>\n",
              "      <td>0</td>\n",
              "    </tr>\n",
              "    <tr>\n",
              "      <th>2</th>\n",
              "      <td>0</td>\n",
              "      <td>0</td>\n",
              "      <td>0</td>\n",
              "      <td>1</td>\n",
              "    </tr>\n",
              "    <tr>\n",
              "      <th>3</th>\n",
              "      <td>0</td>\n",
              "      <td>1</td>\n",
              "      <td>0</td>\n",
              "      <td>0</td>\n",
              "    </tr>\n",
              "  </tbody>\n",
              "</table>\n",
              "</div>"
            ],
            "text/plain": [
              "   I  NLP  am  learning\n",
              "0  1    0   0         0\n",
              "1  0    0   1         0\n",
              "2  0    0   0         1\n",
              "3  0    1   0         0"
            ]
          },
          "metadata": {
            "tags": []
          },
          "execution_count": 4
        }
      ]
    },
    {
      "cell_type": "markdown",
      "metadata": {
        "id": "JipZuJ-GGZZS",
        "colab_type": "text"
      },
      "source": [
        "Count Vectorizer"
      ]
    },
    {
      "cell_type": "code",
      "metadata": {
        "id": "YgWsK-C8Gh06",
        "colab_type": "code",
        "colab": {}
      },
      "source": [
        "from sklearn.feature_extraction.text import CountVectorizer"
      ],
      "execution_count": 2,
      "outputs": []
    },
    {
      "cell_type": "code",
      "metadata": {
        "id": "2vmPcFSkGoqV",
        "colab_type": "code",
        "colab": {}
      },
      "source": [
        "text = [\"kiwi is my pet cat and I love kiwi so much\"]"
      ],
      "execution_count": 16,
      "outputs": []
    },
    {
      "cell_type": "code",
      "metadata": {
        "id": "XMGASSxcHVya",
        "colab_type": "code",
        "colab": {}
      },
      "source": [
        "vectorizer = CountVectorizer()"
      ],
      "execution_count": 18,
      "outputs": []
    },
    {
      "cell_type": "code",
      "metadata": {
        "id": "LU60HaNvHZLQ",
        "colab_type": "code",
        "colab": {
          "base_uri": "https://localhost:8080/",
          "height": 119
        },
        "outputId": "fa1c145a-d6f0-4d2c-83dc-c0a23644f025"
      },
      "source": [
        "vectorizer.fit(text)\n"
      ],
      "execution_count": 19,
      "outputs": [
        {
          "output_type": "execute_result",
          "data": {
            "text/plain": [
              "CountVectorizer(analyzer='word', binary=False, decode_error='strict',\n",
              "                dtype=<class 'numpy.int64'>, encoding='utf-8', input='content',\n",
              "                lowercase=True, max_df=1.0, max_features=None, min_df=1,\n",
              "                ngram_range=(1, 1), preprocessor=None, stop_words=None,\n",
              "                strip_accents=None, token_pattern='(?u)\\\\b\\\\w\\\\w+\\\\b',\n",
              "                tokenizer=None, vocabulary=None)"
            ]
          },
          "metadata": {
            "tags": []
          },
          "execution_count": 19
        }
      ]
    },
    {
      "cell_type": "code",
      "metadata": {
        "id": "kWs5OnvgGuQr",
        "colab_type": "code",
        "colab": {}
      },
      "source": [
        "vector = vectorizer.transform(text)"
      ],
      "execution_count": 20,
      "outputs": []
    },
    {
      "cell_type": "code",
      "metadata": {
        "id": "-W1g7j0AG2Sf",
        "colab_type": "code",
        "colab": {
          "base_uri": "https://localhost:8080/",
          "height": 51
        },
        "outputId": "609d4f9b-136f-4855-e8c0-770dfeb1e1c4"
      },
      "source": [
        "print(vectorizer.vocabulary_)\n",
        "print(vector.toarray())"
      ],
      "execution_count": 21,
      "outputs": [
        {
          "output_type": "stream",
          "text": [
            "{'kiwi': 3, 'is': 2, 'my': 6, 'pet': 7, 'cat': 1, 'and': 0, 'love': 4, 'so': 8, 'much': 5}\n",
            "[[1 1 1 2 1 1 1 1 1]]\n"
          ],
          "name": "stdout"
        }
      ]
    },
    {
      "cell_type": "markdown",
      "metadata": {
        "id": "cub381h_JXoY",
        "colab_type": "text"
      },
      "source": [
        "N-grams"
      ]
    },
    {
      "cell_type": "code",
      "metadata": {
        "id": "g9N_Pr4VJZnV",
        "colab_type": "code",
        "colab": {}
      },
      "source": [
        "Text = \"I am learning NLP\""
      ],
      "execution_count": null,
      "outputs": []
    },
    {
      "cell_type": "code",
      "metadata": {
        "id": "PWHM2hivJdO_",
        "colab_type": "code",
        "colab": {
          "base_uri": "https://localhost:8080/",
          "height": 68
        },
        "outputId": "b4731fb9-1a69-468b-86e2-214300d7201a"
      },
      "source": [
        "from textblob import TextBlob\n",
        "import nltk\n",
        "nltk.download('punkt')"
      ],
      "execution_count": 23,
      "outputs": [
        {
          "output_type": "stream",
          "text": [
            "[nltk_data] Downloading package punkt to /root/nltk_data...\n",
            "[nltk_data]   Unzipping tokenizers/punkt.zip.\n"
          ],
          "name": "stdout"
        },
        {
          "output_type": "execute_result",
          "data": {
            "text/plain": [
              "True"
            ]
          },
          "metadata": {
            "tags": []
          },
          "execution_count": 23
        }
      ]
    },
    {
      "cell_type": "code",
      "metadata": {
        "id": "c56N7rMQJg2I",
        "colab_type": "code",
        "colab": {
          "base_uri": "https://localhost:8080/",
          "height": 34
        },
        "outputId": "5bd04e2b-95ae-4014-878a-3bd04449dc7d"
      },
      "source": [
        "#Unigram\n",
        "TextBlob(Text).ngrams(1)"
      ],
      "execution_count": 24,
      "outputs": [
        {
          "output_type": "execute_result",
          "data": {
            "text/plain": [
              "[WordList(['I']), WordList(['am']), WordList(['learning']), WordList(['NLP'])]"
            ]
          },
          "metadata": {
            "tags": []
          },
          "execution_count": 24
        }
      ]
    },
    {
      "cell_type": "code",
      "metadata": {
        "id": "CAYB1c7PJtFW",
        "colab_type": "code",
        "colab": {
          "base_uri": "https://localhost:8080/",
          "height": 68
        },
        "outputId": "f202cee0-c360-4fd0-f537-a6671fea0331"
      },
      "source": [
        "#Bigram\n",
        "TextBlob(Text).ngrams(2)"
      ],
      "execution_count": 29,
      "outputs": [
        {
          "output_type": "execute_result",
          "data": {
            "text/plain": [
              "[WordList(['I', 'am']),\n",
              " WordList(['am', 'learning']),\n",
              " WordList(['learning', 'NLP'])]"
            ]
          },
          "metadata": {
            "tags": []
          },
          "execution_count": 29
        }
      ]
    },
    {
      "cell_type": "code",
      "metadata": {
        "id": "1tvvxq0XJz9M",
        "colab_type": "code",
        "colab": {
          "base_uri": "https://localhost:8080/",
          "height": 51
        },
        "outputId": "eb115759-2b38-4e08-d386-ab835741f4ee"
      },
      "source": [
        "from sklearn.feature_extraction.text import CountVectorizer\n",
        "#Note that stopword filtering is applied before n-gram extraction\n",
        "text = [\"kiwi is my pet cat and I love kiwi so much\"]\n",
        "vectorizer = CountVectorizer(analyzer='word', ngram_range=(2, 2))\n",
        "vectorizer.fit(text)\n",
        "vector = vectorizer.transform(text)\n",
        "print(vectorizer.vocabulary_)\n",
        "print(vector.toarray())"
      ],
      "execution_count": 34,
      "outputs": [
        {
          "output_type": "stream",
          "text": [
            "{'kiwi is': 3, 'is my': 2, 'my pet': 6, 'pet cat': 7, 'cat and': 1, 'and love': 0, 'love kiwi': 5, 'kiwi so': 4, 'so much': 8}\n",
            "[[1 1 1 1 1 1 1 1 1]]\n"
          ],
          "name": "stdout"
        }
      ]
    },
    {
      "cell_type": "markdown",
      "metadata": {
        "id": "K0NRN141bxqL",
        "colab_type": "text"
      },
      "source": [
        "Hash Vectorizing"
      ]
    },
    {
      "cell_type": "code",
      "metadata": {
        "id": "iBGJl1nqb6Mh",
        "colab_type": "code",
        "colab": {
          "base_uri": "https://localhost:8080/",
          "height": 323
        },
        "outputId": "87b37154-9e5d-46d0-9cd0-7922a170d5b8"
      },
      "source": [
        "from sklearn.feature_extraction.text import HashingVectorizer\n",
        "\n",
        "text = [\"I love kiwi. kiwi is my pet cat\"]\n",
        "\n",
        "vectorizer = HashingVectorizer(n_features=100)\n",
        "\n",
        "vector = vectorizer.transform(text)\n",
        "\n",
        "print(vector.shape)\n",
        "print(vector.toarray())\n"
      ],
      "execution_count": 43,
      "outputs": [
        {
          "output_type": "stream",
          "text": [
            "(1, 100)\n",
            "[[ 0.         -0.33333333  0.          0.          0.          0.\n",
            "   0.          0.          0.          0.          0.          0.\n",
            "   0.         -0.66666667  0.          0.          0.          0.\n",
            "   0.          0.          0.          0.          0.          0.\n",
            "   0.          0.          0.          0.          0.          0.\n",
            "   0.          0.          0.          0.          0.          0.\n",
            "   0.          0.          0.          0.          0.          0.\n",
            "   0.          0.          0.          0.          0.          0.\n",
            "   0.          0.          0.          0.          0.          0.\n",
            "   0.          0.          0.          0.          0.          0.33333333\n",
            "   0.          0.          0.          0.          0.          0.\n",
            "   0.          0.          0.          0.          0.          0.\n",
            "   0.          0.          0.          0.          0.          0.33333333\n",
            "   0.          0.          0.          0.          0.          0.\n",
            "   0.          0.         -0.33333333  0.          0.          0.\n",
            "   0.33333333  0.          0.          0.          0.          0.\n",
            "   0.          0.          0.          0.        ]]\n"
          ],
          "name": "stdout"
        }
      ]
    },
    {
      "cell_type": "markdown",
      "metadata": {
        "id": "yZCIwDaQdF0s",
        "colab_type": "text"
      },
      "source": [
        "Word Embedding"
      ]
    },
    {
      "cell_type": "markdown",
      "metadata": {
        "id": "cDQx4vqWACWW",
        "colab_type": "text"
      },
      "source": [
        "Skipgram"
      ]
    },
    {
      "cell_type": "code",
      "metadata": {
        "id": "tOrdgw8fdH1u",
        "colab_type": "code",
        "colab": {
          "base_uri": "https://localhost:8080/",
          "height": 496
        },
        "outputId": "4f7ebad4-84da-4573-aeb9-373381784da1"
      },
      "source": [
        "sentences = [['I', 'love', 'nlp'],\n",
        "             ['I', 'will', 'learn', 'nlp', 'in', '2', 'months'],\n",
        "             ['nlp', 'saves', 'time', 'and', 'solves', 'lot', 'of', 'industry', 'problems'],\n",
        "             ['nlp', 'uses', 'machine', 'learning']]\n",
        "\n",
        "import gensim\n",
        "from gensim.models import Word2Vec\n",
        "from sklearn.decomposition import PCA\n",
        "from matplotlib import pyplot\n",
        "\n",
        "# this model gives a vector of size 50 for each word.\n",
        "skipgram = Word2Vec(sentences, size = 50, window = 3, min_count = 1, sg = 1)\n",
        "print(skipgram)\n",
        "\n",
        "print(skipgram['nlp'])\n",
        "print(skipgram['love'])"
      ],
      "execution_count": 47,
      "outputs": [
        {
          "output_type": "stream",
          "text": [
            "Word2Vec(vocab=19, size=50, alpha=0.025)\n",
            "[-4.0821270e-03  2.2045025e-04  5.0217770e-03  8.2051789e-05\n",
            " -1.2907932e-03 -3.3861955e-03  1.7062204e-03  7.3950016e-03\n",
            " -1.2766084e-03  7.5666835e-03 -3.9432300e-03  3.9942083e-03\n",
            "  2.7674234e-03 -9.9897617e-04 -6.3266982e-03 -6.4120023e-03\n",
            "  9.2570379e-05 -1.1570011e-03  7.6748473e-03  8.6819538e-04\n",
            " -8.1573392e-04  1.2838913e-03  4.5836354e-03 -5.0570131e-03\n",
            "  8.8247200e-03 -2.5034966e-03  8.2227746e-03 -9.2226360e-03\n",
            " -8.5668406e-03  6.1477968e-03 -4.5651221e-04  4.1345749e-03\n",
            "  2.4011689e-03  3.5019701e-03 -9.5017152e-03  7.4590747e-03\n",
            "  2.8604616e-03  5.5680779e-04 -7.3125968e-03 -5.1438008e-03\n",
            " -9.3714138e-03  2.9805521e-03 -6.3796402e-03 -1.7432587e-05\n",
            "  2.9476946e-03  1.2321135e-03 -7.4861497e-03 -5.9460849e-03\n",
            " -2.6450770e-03  3.8206759e-03]\n",
            "[ 0.0045935   0.00773943  0.00125944 -0.00593603  0.00673969  0.00405087\n",
            " -0.00021243 -0.00838646  0.0027483   0.00527214  0.00729943 -0.00039761\n",
            "  0.00164006 -0.00867255  0.00089591 -0.00948612  0.00516791  0.00066487\n",
            "  0.00739426 -0.00880137  0.0076576   0.00364181  0.00562939 -0.00707263\n",
            "  0.00907952  0.00139054 -0.0045164   0.00186066  0.00330981  0.00662195\n",
            " -0.0012496   0.00259789  0.00216555  0.0062352  -0.00726643 -0.00123732\n",
            " -0.00738665 -0.00530819 -0.00708853 -0.00557071 -0.00566272 -0.00331814\n",
            "  0.00366531 -0.00265042  0.00039208 -0.00195024 -0.00223987  0.00351766\n",
            " -0.00698676 -0.00927712]\n"
          ],
          "name": "stdout"
        },
        {
          "output_type": "stream",
          "text": [
            "/usr/local/lib/python3.6/dist-packages/ipykernel_launcher.py:15: DeprecationWarning: Call to deprecated `__getitem__` (Method will be removed in 4.0.0, use self.wv.__getitem__() instead).\n",
            "  from ipykernel import kernelapp as app\n",
            "/usr/local/lib/python3.6/dist-packages/ipykernel_launcher.py:16: DeprecationWarning: Call to deprecated `__getitem__` (Method will be removed in 4.0.0, use self.wv.__getitem__() instead).\n",
            "  app.launch_new_instance()\n"
          ],
          "name": "stderr"
        }
      ]
    },
    {
      "cell_type": "code",
      "metadata": {
        "id": "tVyI2-Cs-AX-",
        "colab_type": "code",
        "colab": {
          "base_uri": "https://localhost:8080/",
          "height": 71
        },
        "outputId": "46c72767-713b-4b4f-fcd6-0ad891ada98c"
      },
      "source": [
        "skipgram.save('skipgram.bin')\n",
        "skipgram = Word2Vec.load('skipgram.bin')"
      ],
      "execution_count": 48,
      "outputs": [
        {
          "output_type": "stream",
          "text": [
            "/usr/local/lib/python3.6/dist-packages/smart_open/smart_open_lib.py:254: UserWarning: This function is deprecated, use smart_open.open instead. See the migration notes for details: https://github.com/RaRe-Technologies/smart_open/blob/master/README.rst#migrating-to-the-new-open-function\n",
            "  'See the migration notes for details: %s' % _MIGRATION_NOTES_URL\n"
          ],
          "name": "stderr"
        }
      ]
    },
    {
      "cell_type": "code",
      "metadata": {
        "id": "XMev1fDb_B-9",
        "colab_type": "code",
        "colab": {
          "base_uri": "https://localhost:8080/",
          "height": 319
        },
        "outputId": "e72df0f5-84ff-4c2b-8057-5729af771ba1"
      },
      "source": [
        "X = skipgram[skipgram.wv.vocab]\n",
        "pca = PCA(n_components=2)\n",
        "result = pca.fit_transform(X)\n",
        "\n",
        "#create a scatter plot of the projection\n",
        "pyplot.scatter(result[:, 0], result[:, 1])\n",
        "words = list(skipgram.wv.vocab)\n",
        "for i, word in enumerate(words):\n",
        "  pyplot.annotate(word, xy = (result[i, 0], result[i, 1]))\n",
        "\n",
        "pyplot.show()\n"
      ],
      "execution_count": 51,
      "outputs": [
        {
          "output_type": "stream",
          "text": [
            "/usr/local/lib/python3.6/dist-packages/ipykernel_launcher.py:1: DeprecationWarning: Call to deprecated `__getitem__` (Method will be removed in 4.0.0, use self.wv.__getitem__() instead).\n",
            "  \"\"\"Entry point for launching an IPython kernel.\n"
          ],
          "name": "stderr"
        },
        {
          "output_type": "display_data",
          "data": {
            "image/png": "[encoded data removed]",
            "text/plain": [
              "<Figure size 432x288 with 1 Axes>"
            ]
          },
          "metadata": {
            "tags": [],
            "needs_background": "light"
          }
        }
      ]
    },
    {
      "cell_type": "markdown",
      "metadata": {
        "id": "yMfm0x-FAEHA",
        "colab_type": "text"
      },
      "source": [
        "Continuous Bag of Words"
      ]
    },
    {
      "cell_type": "code",
      "metadata": {
        "id": "A6gj_arrAG-b",
        "colab_type": "code",
        "colab": {
          "base_uri": "https://localhost:8080/",
          "height": 608
        },
        "outputId": "675accc1-fa6a-413a-c0ad-bcf46a15065c"
      },
      "source": [
        "sentences = [['I', 'love', 'nlp'],\n",
        "             ['I', 'will', 'learn', 'nlp', 'in', '2', 'months'],\n",
        "             ['nlp', 'saves', 'time', 'and', 'solves', 'lot', 'of', 'industry', 'problems'],\n",
        "             ['nlp', 'uses', 'machine', 'learning']]\n",
        "\n",
        "import gensim\n",
        "from gensim.models import Word2Vec\n",
        "from sklearn.decomposition import PCA\n",
        "from matplotlib import pyplot\n",
        "\n",
        "cbow = Word2Vec(sentences, size = 50, window = 3, min_count = 1, sg = 1)\n",
        "print(cbow)\n",
        "print(cbow['nlp'])\n",
        "cbow.save('cbow.bin')\n",
        "cbow = Word2Vec.load('cbow.bin')\n",
        "\n",
        "X = cbow[cbow.wv.vocab]\n",
        "pca = PCA(n_components=2)\n",
        "result = pca.fit_transform(X)\n",
        "pyplot.scatter(result[:, 0], result[:, 1])\n",
        "words = list(cbow.wv.vocab)\n",
        "\n",
        "for i, word in enumerate(words):\n",
        "  pyplot.annotate(word, xy = (result[i, 0], result[i, 1]))\n",
        "\n",
        "pyplot.show()"
      ],
      "execution_count": 52,
      "outputs": [
        {
          "output_type": "stream",
          "text": [
            "Word2Vec(vocab=19, size=50, alpha=0.025)\n",
            "[-4.0821270e-03  2.2045025e-04  5.0217770e-03  8.2051789e-05\n",
            " -1.2907932e-03 -3.3861955e-03  1.7062204e-03  7.3950016e-03\n",
            " -1.2766084e-03  7.5666835e-03 -3.9432300e-03  3.9942083e-03\n",
            "  2.7674234e-03 -9.9897617e-04 -6.3266982e-03 -6.4120023e-03\n",
            "  9.2570379e-05 -1.1570011e-03  7.6748473e-03  8.6819538e-04\n",
            " -8.1573392e-04  1.2838913e-03  4.5836354e-03 -5.0570131e-03\n",
            "  8.8247200e-03 -2.5034966e-03  8.2227746e-03 -9.2226360e-03\n",
            " -8.5668406e-03  6.1477968e-03 -4.5651221e-04  4.1345749e-03\n",
            "  2.4011689e-03  3.5019701e-03 -9.5017152e-03  7.4590747e-03\n",
            "  2.8604616e-03  5.5680779e-04 -7.3125968e-03 -5.1438008e-03\n",
            " -9.3714138e-03  2.9805521e-03 -6.3796402e-03 -1.7432587e-05\n",
            "  2.9476946e-03  1.2321135e-03 -7.4861497e-03 -5.9460849e-03\n",
            " -2.6450770e-03  3.8206759e-03]\n"
          ],
          "name": "stdout"
        },
        {
          "output_type": "stream",
          "text": [
            "/usr/local/lib/python3.6/dist-packages/ipykernel_launcher.py:13: DeprecationWarning: Call to deprecated `__getitem__` (Method will be removed in 4.0.0, use self.wv.__getitem__() instead).\n",
            "  del sys.path[0]\n",
            "/usr/local/lib/python3.6/dist-packages/smart_open/smart_open_lib.py:254: UserWarning: This function is deprecated, use smart_open.open instead. See the migration notes for details: https://github.com/RaRe-Technologies/smart_open/blob/master/README.rst#migrating-to-the-new-open-function\n",
            "  'See the migration notes for details: %s' % _MIGRATION_NOTES_URL\n",
            "/usr/local/lib/python3.6/dist-packages/ipykernel_launcher.py:17: DeprecationWarning: Call to deprecated `__getitem__` (Method will be removed in 4.0.0, use self.wv.__getitem__() instead).\n"
          ],
          "name": "stderr"
        },
        {
          "output_type": "display_data",
          "data": {
            "image/png": "[encoded data removed]",
            "text/plain": [
              "<Figure size 432x288 with 1 Axes>"
            ]
          },
          "metadata": {
            "tags": [],
            "needs_background": "light"
          }
        }
      ]
    },
    {
      "cell_type": "code",
      "metadata": {
        "id": "A3CD7mcFBHsW",
        "colab_type": "code",
        "colab": {
          "base_uri": "https://localhost:8080/",
          "height": 204
        },
        "outputId": "bd692e6b-0568-4033-98c0-b7db369eef86"
      },
      "source": [
        "!wget -c \"https://s3.amazonaws.com/dl4j-distribution/GoogleNews-vectors-negative300.bin.gz\"\n"
      ],
      "execution_count": 54,
      "outputs": [
        {
          "output_type": "stream",
          "text": [
            "--2020-08-05 05:07:45--  https://s3.amazonaws.com/dl4j-distribution/GoogleNews-vectors-negative300.bin.gz\n",
            "Resolving s3.amazonaws.com (s3.amazonaws.com)... 52.217.17.254\n",
            "Connecting to s3.amazonaws.com (s3.amazonaws.com)|52.217.17.254|:443... connected.\n",
            "HTTP request sent, awaiting response... 200 OK\n",
            "Length: 1647046227 (1.5G) [application/x-gzip]\n",
            "Saving to: ‘GoogleNews-vectors-negative300.bin.gz’\n",
            "\n",
            "GoogleNews-vectors- 100%[===================>]   1.53G  63.3MB/s    in 26s     \n",
            "\n",
            "2020-08-05 05:08:11 (61.6 MB/s) - ‘GoogleNews-vectors-negative300.bin.gz’ saved [1647046227/1647046227]\n",
            "\n"
          ],
          "name": "stdout"
        }
      ]
    },
    {
      "cell_type": "code",
      "metadata": {
        "id": "Ao_Xd0pLBMnH",
        "colab_type": "code",
        "colab": {
          "base_uri": "https://localhost:8080/",
          "height": 139
        },
        "outputId": "429217e6-e46d-402b-b73b-4318537a40f3"
      },
      "source": [
        "import gensim\n",
        "\n",
        "model = gensim.models.KeyedVectors.load_word2vec_format('GoogleNews-vectors-negative300.bin.gz', binary=True)\n",
        "\n",
        "print(model.similarity('this', 'is'))\n",
        "print(model.similarity('post', 'book'))"
      ],
      "execution_count": 56,
      "outputs": [
        {
          "output_type": "stream",
          "text": [
            "/usr/local/lib/python3.6/dist-packages/smart_open/smart_open_lib.py:254: UserWarning: This function is deprecated, use smart_open.open instead. See the migration notes for details: https://github.com/RaRe-Technologies/smart_open/blob/master/README.rst#migrating-to-the-new-open-function\n",
            "  'See the migration notes for details: %s' % _MIGRATION_NOTES_URL\n"
          ],
          "name": "stderr"
        },
        {
          "output_type": "stream",
          "text": [
            "0.40797037\n",
            "0.057204384\n"
          ],
          "name": "stdout"
        },
        {
          "output_type": "stream",
          "text": [
            "/usr/local/lib/python3.6/dist-packages/gensim/matutils.py:737: FutureWarning: Conversion of the second argument of issubdtype from `int` to `np.signedinteger` is deprecated. In future, it will be treated as `np.int64 == np.dtype(int).type`.\n",
            "  if np.issubdtype(vec.dtype, np.int):\n"
          ],
          "name": "stderr"
        }
      ]
    },
    {
      "cell_type": "code",
      "metadata": {
        "id": "wqBlQcZRCCN8",
        "colab_type": "code",
        "colab": {
          "base_uri": "https://localhost:8080/",
          "height": 241
        },
        "outputId": "4513dee7-eca2-4fe4-8c6c-4731bdd21a1e"
      },
      "source": [
        "model.most_similar(positive=['woman', 'king'], negative=['man'])\n"
      ],
      "execution_count": 59,
      "outputs": [
        {
          "output_type": "stream",
          "text": [
            "/usr/local/lib/python3.6/dist-packages/gensim/matutils.py:737: FutureWarning: Conversion of the second argument of issubdtype from `int` to `np.signedinteger` is deprecated. In future, it will be treated as `np.int64 == np.dtype(int).type`.\n",
            "  if np.issubdtype(vec.dtype, np.int):\n"
          ],
          "name": "stderr"
        },
        {
          "output_type": "execute_result",
          "data": {
            "text/plain": [
              "[('queen', 0.7118192911148071),\n",
              " ('monarch', 0.6189674139022827),\n",
              " ('princess', 0.5902431011199951),\n",
              " ('crown_prince', 0.5499460697174072),\n",
              " ('prince', 0.5377321243286133),\n",
              " ('kings', 0.5236844420433044),\n",
              " ('Queen_Consort', 0.5235945582389832),\n",
              " ('queens', 0.518113374710083),\n",
              " ('sultan', 0.5098593235015869),\n",
              " ('monarchy', 0.5087411999702454)]"
            ]
          },
          "metadata": {
            "tags": []
          },
          "execution_count": 59
        }
      ]
    }
  ]
}