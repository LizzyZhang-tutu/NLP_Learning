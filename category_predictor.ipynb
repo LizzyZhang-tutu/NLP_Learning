{
  "nbformat": 4,
  "nbformat_minor": 0,
  "metadata": {
    "colab": {
      "name": "category_predictor.ipynb",
      "provenance": [],
      "authorship_tag": "ABX9TyMjNJO3FwFyE2s0vZk29Wry",
      "include_colab_link": true
    },
    "kernelspec": {
      "name": "python3",
      "display_name": "Python 3"
    }
  },
  "cells": [
    {
      "cell_type": "markdown",
      "metadata": {
        "id": "view-in-github",
        "colab_type": "text"
      },
      "source": [
        "<a href=\"https://colab.research.google.com/github/LizzyZhang-tutu/NLP_Learning/blob/master/category_predictor.ipynb\" target=\"_parent\"><img src=\"https://colab.research.google.com/assets/colab-badge.svg\" alt=\"Open In Colab\"/></a>"
      ]
    },
    {
      "cell_type": "code",
      "metadata": {
        "id": "lXq992Rt4ufj",
        "colab_type": "code",
        "colab": {
          "base_uri": "https://localhost:8080/",
          "height": 289
        },
        "outputId": "689be700-e567-4452-f575-064ab24dff90"
      },
      "source": [
        "from sklearn.datasets import fetch_20newsgroups\n",
        "from sklearn.naive_bayes import MultinomialNB\n",
        "from sklearn.feature_extraction.text import TfidfTransformer\n",
        "from sklearn.feature_extraction.text import CountVectorizer\n",
        "\n",
        "# Define the category map\n",
        "category_map = {'talk.politics.misc': 'Politics', 'rec.autos': 'Autos', \n",
        "        'rec.sport.hockey': 'Hockey', 'sci.electronics': 'Electronics', \n",
        "        'sci.med': 'Medicine'}\n",
        "\n",
        "# Get the training dataset\n",
        "training_data = fetch_20newsgroups(subset='train', \n",
        "        categories=category_map.keys(), shuffle=True, random_state=5)\n",
        "\n",
        "# Build a count vectorizer and extract term counts \n",
        "count_vectorizer = CountVectorizer()\n",
        "train_tc = count_vectorizer.fit_transform(training_data.data)\n",
        "print(\"\\nDimensions of training data:\", train_tc.shape)\n",
        "\n",
        "# Create the tf-idf transformer\n",
        "tfidf = TfidfTransformer()\n",
        "train_tfidf = tfidf.fit_transform(train_tc)\n",
        "\n",
        "# Define test data \n",
        "input_data = [\n",
        "    'You need to be careful with cars when you are driving on slippery roads', \n",
        "    'A lot of devices can be operated wirelessly',\n",
        "    'Players need to be careful when they are close to goal posts',\n",
        "    'Political debates help us understand the perspectives of both sides'\n",
        "]\n",
        "\n",
        "# Train a Multinomial Naive Bayes classifier\n",
        "classifier = MultinomialNB().fit(train_tfidf, training_data.target)\n",
        "\n",
        "# Transform input data using count vectorizer\n",
        "input_tc = count_vectorizer.transform(input_data)\n",
        "\n",
        "# Transform vectorized data using tfidf transformer\n",
        "input_tfidf = tfidf.transform(input_tc)\n",
        "\n",
        "# Predict the output categories\n",
        "predictions = classifier.predict(input_tfidf)\n",
        "\n",
        "# Print the outputs\n",
        "for sent, category in zip(input_data, predictions):\n",
        "    print('\\nInput:', sent, '\\nPredicted category:', \\\n",
        "            category_map[training_data.target_names[category]])\n",
        "\n"
      ],
      "execution_count": 1,
      "outputs": [
        {
          "output_type": "stream",
          "text": [
            "Downloading 20news dataset. This may take a few minutes.\n",
            "Downloading dataset from https://ndownloader.figshare.com/files/5975967 (14 MB)\n"
          ],
          "name": "stderr"
        },
        {
          "output_type": "stream",
          "text": [
            "\n",
            "Dimensions of training data: (2844, 40321)\n",
            "\n",
            "Input: You need to be careful with cars when you are driving on slippery roads \n",
            "Predicted category: Autos\n",
            "\n",
            "Input: A lot of devices can be operated wirelessly \n",
            "Predicted category: Electronics\n",
            "\n",
            "Input: Players need to be careful when they are close to goal posts \n",
            "Predicted category: Hockey\n",
            "\n",
            "Input: Political debates help us understand the perspectives of both sides \n",
            "Predicted category: Politics\n"
          ],
          "name": "stdout"
        }
      ]
    }
  ]
}