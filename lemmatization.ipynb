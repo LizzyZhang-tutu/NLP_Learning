{
  "nbformat": 4,
  "nbformat_minor": 0,
  "metadata": {
    "colab": {
      "name": "lemmatization.ipynb",
      "provenance": [],
      "authorship_tag": "ABX9TyOacpyvf9+5/9ieU263Ou3E",
      "include_colab_link": true
    },
    "kernelspec": {
      "name": "python3",
      "display_name": "Python 3"
    }
  },
  "cells": [
    {
      "cell_type": "markdown",
      "metadata": {
        "id": "view-in-github",
        "colab_type": "text"
      },
      "source": [
        "<a href=\"https://colab.research.google.com/github/LizzyZhang-tutu/NLP_Learning/blob/master/lemmatization.ipynb\" target=\"_parent\"><img src=\"https://colab.research.google.com/assets/colab-badge.svg\" alt=\"Open In Colab\"/></a>"
      ]
    },
    {
      "cell_type": "code",
      "metadata": {
        "id": "8nT3LFKC3C7t",
        "colab_type": "code",
        "colab": {
          "base_uri": "https://localhost:8080/",
          "height": 306
        },
        "outputId": "231b38cd-4db6-4648-ddf1-2a8b5478b112"
      },
      "source": [
        "from nltk.stem import WordNetLemmatizer\n",
        "import nltk\n",
        "nltk.download('wordnet')\n",
        "\n",
        "input_words = ['writing', 'calves', 'be', 'branded', 'horse', 'randomize', \n",
        "        'possibly', 'provision', 'hospital', 'kept', 'scratchy', 'code']\n",
        "\n",
        "# Create lemmatizer object \n",
        "lemmatizer = WordNetLemmatizer()\n",
        "\n",
        "# Create a list of lemmatizer names for display\n",
        "lemmatizer_names = ['NOUN LEMMATIZER', 'VERB LEMMATIZER']\n",
        "formatted_text = '{:>24}' * (len(lemmatizer_names) + 1)\n",
        "print('\\n', formatted_text.format('INPUT WORD', *lemmatizer_names), \n",
        "        '\\n', '='*75)\n",
        "\n",
        "# Lemmatize each word and display the output\n",
        "for word in input_words:\n",
        "    output = [word, lemmatizer.lemmatize(word, pos='n'),\n",
        "           lemmatizer.lemmatize(word, pos='v')]\n",
        "    print(formatted_text.format(*output))"
      ],
      "execution_count": 2,
      "outputs": [
        {
          "output_type": "stream",
          "text": [
            "[nltk_data] Downloading package wordnet to /root/nltk_data...\n",
            "[nltk_data]   Unzipping corpora/wordnet.zip.\n",
            "\n",
            "               INPUT WORD         NOUN LEMMATIZER         VERB LEMMATIZER \n",
            " ===========================================================================\n",
            "                 writing                 writing                   write\n",
            "                  calves                    calf                   calve\n",
            "                      be                      be                      be\n",
            "                 branded                 branded                   brand\n",
            "                   horse                   horse                   horse\n",
            "               randomize               randomize               randomize\n",
            "                possibly                possibly                possibly\n",
            "               provision               provision               provision\n",
            "                hospital                hospital                hospital\n",
            "                    kept                    kept                    keep\n",
            "                scratchy                scratchy                scratchy\n",
            "                    code                    code                    code\n"
          ],
          "name": "stdout"
        }
      ]
    }
  ]
}